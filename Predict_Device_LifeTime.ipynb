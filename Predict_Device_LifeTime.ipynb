{
 "cells": [
  {
   "cell_type": "markdown",
   "metadata": {},
   "source": [
    "# Data Science Research Project\n",
    "\n",
    "The Data:\n",
    "1. This data represents a technology which is in a remote location. It sends data periodically on its status – failure or not. It is very expensive to fix these machines because they are in remote areas and its failure is hard to predict. It is your job as the researcher to help us predict failures which may occur in the future\n",
    "2. Historical file : predict_failure.csv\n",
    "\n",
    "The Task\n",
    "1. Research : Please create a predictive model using a jupyter notebook.\n",
    "    a. Highlight your thought process in the notebook as you explore the data\n",
    "    b. Showcase your best predictive model – and highlight why it’s the best\n",
    "    c. Evaluate your model"
   ]
  },
  {
   "cell_type": "markdown",
   "metadata": {},
   "source": [
    "First we read the data and explore it"
   ]
  },
  {
   "cell_type": "code",
   "execution_count": 44,
   "metadata": {},
   "outputs": [],
   "source": [
    "import pandas as pd\n",
    "import numpy as np\n",
    "from sklearn.ensemble import RandomForestRegressor,RandomForestClassifier\n",
    "from sklearn.linear_model import ElasticNet,ElasticNetCV\n",
    "from sklearn.model_selection import KFold,GridSearchCV"
   ]
  },
  {
   "cell_type": "code",
   "execution_count": 3,
   "metadata": {},
   "outputs": [],
   "source": [
    "from sklearn import metrics\n",
    "from matplotlib import pyplot as plt\n",
    "import seaborn as sns"
   ]
  },
  {
   "cell_type": "code",
   "execution_count": 4,
   "metadata": {},
   "outputs": [],
   "source": [
    "df=pd.read_csv('TakeHomeTest/predict_failure.csv')"
   ]
  },
  {
   "cell_type": "code",
   "execution_count": 5,
   "metadata": {},
   "outputs": [
    {
     "data": {
      "text/html": [
       "<div>\n",
       "<style scoped>\n",
       "    .dataframe tbody tr th:only-of-type {\n",
       "        vertical-align: middle;\n",
       "    }\n",
       "\n",
       "    .dataframe tbody tr th {\n",
       "        vertical-align: top;\n",
       "    }\n",
       "\n",
       "    .dataframe thead th {\n",
       "        text-align: right;\n",
       "    }\n",
       "</style>\n",
       "<table border=\"1\" class=\"dataframe\">\n",
       "  <thead>\n",
       "    <tr style=\"text-align: right;\">\n",
       "      <th></th>\n",
       "      <th>date</th>\n",
       "      <th>device</th>\n",
       "      <th>failure</th>\n",
       "      <th>attribute1</th>\n",
       "      <th>attribute2</th>\n",
       "      <th>attribute3</th>\n",
       "      <th>attribute4</th>\n",
       "      <th>attribute5</th>\n",
       "      <th>attribute6</th>\n",
       "      <th>attribute7</th>\n",
       "      <th>attribute8</th>\n",
       "      <th>attribute9</th>\n",
       "    </tr>\n",
       "  </thead>\n",
       "  <tbody>\n",
       "    <tr>\n",
       "      <th>0</th>\n",
       "      <td>2015-01-01</td>\n",
       "      <td>S1F01085</td>\n",
       "      <td>0</td>\n",
       "      <td>215630672</td>\n",
       "      <td>56</td>\n",
       "      <td>0</td>\n",
       "      <td>52</td>\n",
       "      <td>6</td>\n",
       "      <td>407438</td>\n",
       "      <td>0</td>\n",
       "      <td>0</td>\n",
       "      <td>7</td>\n",
       "    </tr>\n",
       "    <tr>\n",
       "      <th>1</th>\n",
       "      <td>2015-01-01</td>\n",
       "      <td>S1F0166B</td>\n",
       "      <td>0</td>\n",
       "      <td>61370680</td>\n",
       "      <td>0</td>\n",
       "      <td>3</td>\n",
       "      <td>0</td>\n",
       "      <td>6</td>\n",
       "      <td>403174</td>\n",
       "      <td>0</td>\n",
       "      <td>0</td>\n",
       "      <td>0</td>\n",
       "    </tr>\n",
       "    <tr>\n",
       "      <th>2</th>\n",
       "      <td>2015-01-01</td>\n",
       "      <td>S1F01E6Y</td>\n",
       "      <td>0</td>\n",
       "      <td>173295968</td>\n",
       "      <td>0</td>\n",
       "      <td>0</td>\n",
       "      <td>0</td>\n",
       "      <td>12</td>\n",
       "      <td>237394</td>\n",
       "      <td>0</td>\n",
       "      <td>0</td>\n",
       "      <td>0</td>\n",
       "    </tr>\n",
       "    <tr>\n",
       "      <th>3</th>\n",
       "      <td>2015-01-01</td>\n",
       "      <td>S1F01JE0</td>\n",
       "      <td>0</td>\n",
       "      <td>79694024</td>\n",
       "      <td>0</td>\n",
       "      <td>0</td>\n",
       "      <td>0</td>\n",
       "      <td>6</td>\n",
       "      <td>410186</td>\n",
       "      <td>0</td>\n",
       "      <td>0</td>\n",
       "      <td>0</td>\n",
       "    </tr>\n",
       "    <tr>\n",
       "      <th>4</th>\n",
       "      <td>2015-01-01</td>\n",
       "      <td>S1F01R2B</td>\n",
       "      <td>0</td>\n",
       "      <td>135970480</td>\n",
       "      <td>0</td>\n",
       "      <td>0</td>\n",
       "      <td>0</td>\n",
       "      <td>15</td>\n",
       "      <td>313173</td>\n",
       "      <td>0</td>\n",
       "      <td>0</td>\n",
       "      <td>3</td>\n",
       "    </tr>\n",
       "  </tbody>\n",
       "</table>\n",
       "</div>"
      ],
      "text/plain": [
       "         date    device  failure  attribute1  attribute2  attribute3  \\\n",
       "0  2015-01-01  S1F01085        0   215630672          56           0   \n",
       "1  2015-01-01  S1F0166B        0    61370680           0           3   \n",
       "2  2015-01-01  S1F01E6Y        0   173295968           0           0   \n",
       "3  2015-01-01  S1F01JE0        0    79694024           0           0   \n",
       "4  2015-01-01  S1F01R2B        0   135970480           0           0   \n",
       "\n",
       "   attribute4  attribute5  attribute6  attribute7  attribute8  attribute9  \n",
       "0          52           6      407438           0           0           7  \n",
       "1           0           6      403174           0           0           0  \n",
       "2           0          12      237394           0           0           0  \n",
       "3           0           6      410186           0           0           0  \n",
       "4           0          15      313173           0           0           3  "
      ]
     },
     "execution_count": 5,
     "metadata": {},
     "output_type": "execute_result"
    }
   ],
   "source": [
    "df.head()"
   ]
  },
  {
   "cell_type": "code",
   "execution_count": 6,
   "metadata": {},
   "outputs": [
    {
     "data": {
      "text/plain": [
       "(124494, 12)"
      ]
     },
     "execution_count": 6,
     "metadata": {},
     "output_type": "execute_result"
    }
   ],
   "source": [
    "df.shape"
   ]
  },
  {
   "cell_type": "code",
   "execution_count": 7,
   "metadata": {},
   "outputs": [
    {
     "data": {
      "text/plain": [
       "date          0\n",
       "device        0\n",
       "failure       0\n",
       "attribute1    0\n",
       "attribute2    0\n",
       "attribute3    0\n",
       "attribute4    0\n",
       "attribute5    0\n",
       "attribute6    0\n",
       "attribute7    0\n",
       "attribute8    0\n",
       "attribute9    0\n",
       "dtype: int64"
      ]
     },
     "execution_count": 7,
     "metadata": {},
     "output_type": "execute_result"
    }
   ],
   "source": [
    "df.isnull().sum()"
   ]
  },
  {
   "cell_type": "code",
   "execution_count": 8,
   "metadata": {},
   "outputs": [],
   "source": [
    "df['date'] = pd.to_datetime(df['date'])"
   ]
  },
  {
   "cell_type": "code",
   "execution_count": 9,
   "metadata": {},
   "outputs": [
    {
     "data": {
      "text/plain": [
       "(Timestamp('2015-01-01 00:00:00'), Timestamp('2015-11-02 00:00:00'))"
      ]
     },
     "execution_count": 9,
     "metadata": {},
     "output_type": "execute_result"
    }
   ],
   "source": [
    "df['date'].min(),df['date'].max()"
   ]
  },
  {
   "cell_type": "code",
   "execution_count": 10,
   "metadata": {},
   "outputs": [
    {
     "data": {
      "text/plain": [
       "date          datetime64[ns]\n",
       "device                object\n",
       "failure                int64\n",
       "attribute1             int64\n",
       "attribute2             int64\n",
       "attribute3             int64\n",
       "attribute4             int64\n",
       "attribute5             int64\n",
       "attribute6             int64\n",
       "attribute7             int64\n",
       "attribute8             int64\n",
       "attribute9             int64\n",
       "dtype: object"
      ]
     },
     "execution_count": 10,
     "metadata": {},
     "output_type": "execute_result"
    }
   ],
   "source": [
    "df.dtypes"
   ]
  },
  {
   "cell_type": "code",
   "execution_count": 11,
   "metadata": {},
   "outputs": [
    {
     "data": {
      "text/html": [
       "<div>\n",
       "<style scoped>\n",
       "    .dataframe tbody tr th:only-of-type {\n",
       "        vertical-align: middle;\n",
       "    }\n",
       "\n",
       "    .dataframe tbody tr th {\n",
       "        vertical-align: top;\n",
       "    }\n",
       "\n",
       "    .dataframe thead th {\n",
       "        text-align: right;\n",
       "    }\n",
       "</style>\n",
       "<table border=\"1\" class=\"dataframe\">\n",
       "  <thead>\n",
       "    <tr style=\"text-align: right;\">\n",
       "      <th></th>\n",
       "      <th>failure</th>\n",
       "      <th>attribute1</th>\n",
       "      <th>attribute2</th>\n",
       "      <th>attribute3</th>\n",
       "      <th>attribute4</th>\n",
       "      <th>attribute5</th>\n",
       "      <th>attribute6</th>\n",
       "      <th>attribute7</th>\n",
       "      <th>attribute8</th>\n",
       "      <th>attribute9</th>\n",
       "    </tr>\n",
       "  </thead>\n",
       "  <tbody>\n",
       "    <tr>\n",
       "      <th>count</th>\n",
       "      <td>124494.000000</td>\n",
       "      <td>1.244940e+05</td>\n",
       "      <td>124494.000000</td>\n",
       "      <td>124494.000000</td>\n",
       "      <td>124494.000000</td>\n",
       "      <td>124494.000000</td>\n",
       "      <td>124494.000000</td>\n",
       "      <td>124494.000000</td>\n",
       "      <td>124494.000000</td>\n",
       "      <td>124494.000000</td>\n",
       "    </tr>\n",
       "    <tr>\n",
       "      <th>mean</th>\n",
       "      <td>0.000851</td>\n",
       "      <td>1.223868e+08</td>\n",
       "      <td>159.484762</td>\n",
       "      <td>9.940455</td>\n",
       "      <td>1.741120</td>\n",
       "      <td>14.222693</td>\n",
       "      <td>260172.858025</td>\n",
       "      <td>0.292528</td>\n",
       "      <td>0.292528</td>\n",
       "      <td>12.451524</td>\n",
       "    </tr>\n",
       "    <tr>\n",
       "      <th>std</th>\n",
       "      <td>0.029167</td>\n",
       "      <td>7.045960e+07</td>\n",
       "      <td>2179.657730</td>\n",
       "      <td>185.747321</td>\n",
       "      <td>22.908507</td>\n",
       "      <td>15.943021</td>\n",
       "      <td>99151.009852</td>\n",
       "      <td>7.436924</td>\n",
       "      <td>7.436924</td>\n",
       "      <td>191.425623</td>\n",
       "    </tr>\n",
       "    <tr>\n",
       "      <th>min</th>\n",
       "      <td>0.000000</td>\n",
       "      <td>0.000000e+00</td>\n",
       "      <td>0.000000</td>\n",
       "      <td>0.000000</td>\n",
       "      <td>0.000000</td>\n",
       "      <td>1.000000</td>\n",
       "      <td>8.000000</td>\n",
       "      <td>0.000000</td>\n",
       "      <td>0.000000</td>\n",
       "      <td>0.000000</td>\n",
       "    </tr>\n",
       "    <tr>\n",
       "      <th>25%</th>\n",
       "      <td>0.000000</td>\n",
       "      <td>6.127675e+07</td>\n",
       "      <td>0.000000</td>\n",
       "      <td>0.000000</td>\n",
       "      <td>0.000000</td>\n",
       "      <td>8.000000</td>\n",
       "      <td>221452.000000</td>\n",
       "      <td>0.000000</td>\n",
       "      <td>0.000000</td>\n",
       "      <td>0.000000</td>\n",
       "    </tr>\n",
       "    <tr>\n",
       "      <th>50%</th>\n",
       "      <td>0.000000</td>\n",
       "      <td>1.227957e+08</td>\n",
       "      <td>0.000000</td>\n",
       "      <td>0.000000</td>\n",
       "      <td>0.000000</td>\n",
       "      <td>10.000000</td>\n",
       "      <td>249799.500000</td>\n",
       "      <td>0.000000</td>\n",
       "      <td>0.000000</td>\n",
       "      <td>0.000000</td>\n",
       "    </tr>\n",
       "    <tr>\n",
       "      <th>75%</th>\n",
       "      <td>0.000000</td>\n",
       "      <td>1.833084e+08</td>\n",
       "      <td>0.000000</td>\n",
       "      <td>0.000000</td>\n",
       "      <td>0.000000</td>\n",
       "      <td>12.000000</td>\n",
       "      <td>310266.000000</td>\n",
       "      <td>0.000000</td>\n",
       "      <td>0.000000</td>\n",
       "      <td>0.000000</td>\n",
       "    </tr>\n",
       "    <tr>\n",
       "      <th>max</th>\n",
       "      <td>1.000000</td>\n",
       "      <td>2.441405e+08</td>\n",
       "      <td>64968.000000</td>\n",
       "      <td>24929.000000</td>\n",
       "      <td>1666.000000</td>\n",
       "      <td>98.000000</td>\n",
       "      <td>689161.000000</td>\n",
       "      <td>832.000000</td>\n",
       "      <td>832.000000</td>\n",
       "      <td>18701.000000</td>\n",
       "    </tr>\n",
       "  </tbody>\n",
       "</table>\n",
       "</div>"
      ],
      "text/plain": [
       "             failure    attribute1     attribute2     attribute3  \\\n",
       "count  124494.000000  1.244940e+05  124494.000000  124494.000000   \n",
       "mean        0.000851  1.223868e+08     159.484762       9.940455   \n",
       "std         0.029167  7.045960e+07    2179.657730     185.747321   \n",
       "min         0.000000  0.000000e+00       0.000000       0.000000   \n",
       "25%         0.000000  6.127675e+07       0.000000       0.000000   \n",
       "50%         0.000000  1.227957e+08       0.000000       0.000000   \n",
       "75%         0.000000  1.833084e+08       0.000000       0.000000   \n",
       "max         1.000000  2.441405e+08   64968.000000   24929.000000   \n",
       "\n",
       "          attribute4     attribute5     attribute6     attribute7  \\\n",
       "count  124494.000000  124494.000000  124494.000000  124494.000000   \n",
       "mean        1.741120      14.222693  260172.858025       0.292528   \n",
       "std        22.908507      15.943021   99151.009852       7.436924   \n",
       "min         0.000000       1.000000       8.000000       0.000000   \n",
       "25%         0.000000       8.000000  221452.000000       0.000000   \n",
       "50%         0.000000      10.000000  249799.500000       0.000000   \n",
       "75%         0.000000      12.000000  310266.000000       0.000000   \n",
       "max      1666.000000      98.000000  689161.000000     832.000000   \n",
       "\n",
       "          attribute8     attribute9  \n",
       "count  124494.000000  124494.000000  \n",
       "mean        0.292528      12.451524  \n",
       "std         7.436924     191.425623  \n",
       "min         0.000000       0.000000  \n",
       "25%         0.000000       0.000000  \n",
       "50%         0.000000       0.000000  \n",
       "75%         0.000000       0.000000  \n",
       "max       832.000000   18701.000000  "
      ]
     },
     "execution_count": 11,
     "metadata": {},
     "output_type": "execute_result"
    }
   ],
   "source": [
    "df.describe()"
   ]
  },
  {
   "cell_type": "markdown",
   "metadata": {},
   "source": [
    "# lets collect enough samples for device that had failures"
   ]
  },
  {
   "cell_type": "code",
   "execution_count": 12,
   "metadata": {},
   "outputs": [
    {
     "name": "stdout",
     "output_type": "stream",
     "text": [
      "Out of 124494 we have 1168 unique devices\n"
     ]
    }
   ],
   "source": [
    "print('Out of {} we have {} unique devices'.format(df.shape[0],df['device'].nunique()))"
   ]
  },
  {
   "cell_type": "code",
   "execution_count": 13,
   "metadata": {},
   "outputs": [],
   "source": [
    "df1 = (df.groupby(['device'])['failure'].nunique()>1).reset_index()\n",
    "df1 = df1[df1.failure==True]\n",
    "final_df = df1.merge(df,on='device',how='left',suffixes=['_happend',''])"
   ]
  },
  {
   "cell_type": "code",
   "execution_count": 14,
   "metadata": {},
   "outputs": [
    {
     "data": {
      "text/html": [
       "<div>\n",
       "<style scoped>\n",
       "    .dataframe tbody tr th:only-of-type {\n",
       "        vertical-align: middle;\n",
       "    }\n",
       "\n",
       "    .dataframe tbody tr th {\n",
       "        vertical-align: top;\n",
       "    }\n",
       "\n",
       "    .dataframe thead th {\n",
       "        text-align: right;\n",
       "    }\n",
       "</style>\n",
       "<table border=\"1\" class=\"dataframe\">\n",
       "  <thead>\n",
       "    <tr style=\"text-align: right;\">\n",
       "      <th></th>\n",
       "      <th>device</th>\n",
       "      <th>failure_happend</th>\n",
       "      <th>date</th>\n",
       "      <th>failure</th>\n",
       "      <th>attribute1</th>\n",
       "      <th>attribute2</th>\n",
       "      <th>attribute3</th>\n",
       "      <th>attribute4</th>\n",
       "      <th>attribute5</th>\n",
       "      <th>attribute6</th>\n",
       "      <th>attribute7</th>\n",
       "      <th>attribute8</th>\n",
       "      <th>attribute9</th>\n",
       "    </tr>\n",
       "  </thead>\n",
       "  <tbody>\n",
       "    <tr>\n",
       "      <th>0</th>\n",
       "      <td>S1F023H2</td>\n",
       "      <td>True</td>\n",
       "      <td>2015-01-01</td>\n",
       "      <td>0</td>\n",
       "      <td>141503600</td>\n",
       "      <td>0</td>\n",
       "      <td>0</td>\n",
       "      <td>1</td>\n",
       "      <td>19</td>\n",
       "      <td>494462</td>\n",
       "      <td>16</td>\n",
       "      <td>16</td>\n",
       "      <td>3</td>\n",
       "    </tr>\n",
       "    <tr>\n",
       "      <th>1</th>\n",
       "      <td>S1F023H2</td>\n",
       "      <td>True</td>\n",
       "      <td>2015-01-02</td>\n",
       "      <td>0</td>\n",
       "      <td>161679800</td>\n",
       "      <td>0</td>\n",
       "      <td>0</td>\n",
       "      <td>1</td>\n",
       "      <td>19</td>\n",
       "      <td>495730</td>\n",
       "      <td>16</td>\n",
       "      <td>16</td>\n",
       "      <td>3</td>\n",
       "    </tr>\n",
       "    <tr>\n",
       "      <th>2</th>\n",
       "      <td>S1F023H2</td>\n",
       "      <td>True</td>\n",
       "      <td>2015-01-03</td>\n",
       "      <td>0</td>\n",
       "      <td>182358672</td>\n",
       "      <td>0</td>\n",
       "      <td>0</td>\n",
       "      <td>1</td>\n",
       "      <td>19</td>\n",
       "      <td>496974</td>\n",
       "      <td>16</td>\n",
       "      <td>16</td>\n",
       "      <td>3</td>\n",
       "    </tr>\n",
       "    <tr>\n",
       "      <th>3</th>\n",
       "      <td>S1F023H2</td>\n",
       "      <td>True</td>\n",
       "      <td>2015-01-04</td>\n",
       "      <td>0</td>\n",
       "      <td>204752808</td>\n",
       "      <td>0</td>\n",
       "      <td>0</td>\n",
       "      <td>1</td>\n",
       "      <td>19</td>\n",
       "      <td>497559</td>\n",
       "      <td>16</td>\n",
       "      <td>16</td>\n",
       "      <td>3</td>\n",
       "    </tr>\n",
       "    <tr>\n",
       "      <th>4</th>\n",
       "      <td>S1F023H2</td>\n",
       "      <td>True</td>\n",
       "      <td>2015-01-05</td>\n",
       "      <td>0</td>\n",
       "      <td>226982888</td>\n",
       "      <td>0</td>\n",
       "      <td>0</td>\n",
       "      <td>1</td>\n",
       "      <td>19</td>\n",
       "      <td>498753</td>\n",
       "      <td>16</td>\n",
       "      <td>16</td>\n",
       "      <td>3</td>\n",
       "    </tr>\n",
       "  </tbody>\n",
       "</table>\n",
       "</div>"
      ],
      "text/plain": [
       "     device  failure_happend       date  failure  attribute1  attribute2  \\\n",
       "0  S1F023H2             True 2015-01-01        0   141503600           0   \n",
       "1  S1F023H2             True 2015-01-02        0   161679800           0   \n",
       "2  S1F023H2             True 2015-01-03        0   182358672           0   \n",
       "3  S1F023H2             True 2015-01-04        0   204752808           0   \n",
       "4  S1F023H2             True 2015-01-05        0   226982888           0   \n",
       "\n",
       "   attribute3  attribute4  attribute5  attribute6  attribute7  attribute8  \\\n",
       "0           0           1          19      494462          16          16   \n",
       "1           0           1          19      495730          16          16   \n",
       "2           0           1          19      496974          16          16   \n",
       "3           0           1          19      497559          16          16   \n",
       "4           0           1          19      498753          16          16   \n",
       "\n",
       "   attribute9  \n",
       "0           3  \n",
       "1           3  \n",
       "2           3  \n",
       "3           3  \n",
       "4           3  "
      ]
     },
     "execution_count": 14,
     "metadata": {},
     "output_type": "execute_result"
    }
   ],
   "source": [
    "final_df.head()"
   ]
  },
  {
   "cell_type": "code",
   "execution_count": 15,
   "metadata": {},
   "outputs": [
    {
     "data": {
      "text/plain": [
       "(10713, 13)"
      ]
     },
     "execution_count": 15,
     "metadata": {},
     "output_type": "execute_result"
    }
   ],
   "source": [
    "final_df.shape"
   ]
  },
  {
   "cell_type": "code",
   "execution_count": 16,
   "metadata": {},
   "outputs": [
    {
     "data": {
      "text/plain": [
       "106"
      ]
     },
     "execution_count": 16,
     "metadata": {},
     "output_type": "execute_result"
    }
   ],
   "source": [
    "#there are only some of the devices that have both zero and one values and this is part of the data that we can use \n",
    "#for our model training then these are devices that we can have a good prediction for\n",
    "\n",
    "final_df.device.nunique()"
   ]
  },
  {
   "cell_type": "markdown",
   "metadata": {},
   "source": [
    "### Create a variable with device life time duration"
   ]
  },
  {
   "cell_type": "code",
   "execution_count": 17,
   "metadata": {},
   "outputs": [],
   "source": [
    "for device in final_df.device.unique():\n",
    "   # final_df.loc[final_df.device==device,'fail_date'] = \n",
    "    device_last_date = final_df.loc[(final_df.device==device)&(final_df.failure==1),'date']\n",
    "    final_df.loc[final_df.device==device,'fail_date']=device_last_date.values         "
   ]
  },
  {
   "cell_type": "code",
   "execution_count": 18,
   "metadata": {},
   "outputs": [],
   "source": [
    "final_df['fail_date'] = pd.to_datetime(final_df['fail_date'])"
   ]
  },
  {
   "cell_type": "code",
   "execution_count": 19,
   "metadata": {},
   "outputs": [],
   "source": [
    "final_df['lifeTime_remain'] = (final_df.fail_date - final_df.date).dt.days"
   ]
  },
  {
   "cell_type": "code",
   "execution_count": 20,
   "metadata": {},
   "outputs": [
    {
     "data": {
      "text/html": [
       "<div>\n",
       "<style scoped>\n",
       "    .dataframe tbody tr th:only-of-type {\n",
       "        vertical-align: middle;\n",
       "    }\n",
       "\n",
       "    .dataframe tbody tr th {\n",
       "        vertical-align: top;\n",
       "    }\n",
       "\n",
       "    .dataframe thead th {\n",
       "        text-align: right;\n",
       "    }\n",
       "</style>\n",
       "<table border=\"1\" class=\"dataframe\">\n",
       "  <thead>\n",
       "    <tr style=\"text-align: right;\">\n",
       "      <th></th>\n",
       "      <th>device</th>\n",
       "      <th>failure_happend</th>\n",
       "      <th>date</th>\n",
       "      <th>failure</th>\n",
       "      <th>attribute1</th>\n",
       "      <th>attribute2</th>\n",
       "      <th>attribute3</th>\n",
       "      <th>attribute4</th>\n",
       "      <th>attribute5</th>\n",
       "      <th>attribute6</th>\n",
       "      <th>attribute7</th>\n",
       "      <th>attribute8</th>\n",
       "      <th>attribute9</th>\n",
       "      <th>fail_date</th>\n",
       "      <th>lifeTime_remain</th>\n",
       "    </tr>\n",
       "  </thead>\n",
       "  <tbody>\n",
       "    <tr>\n",
       "      <th>0</th>\n",
       "      <td>S1F023H2</td>\n",
       "      <td>True</td>\n",
       "      <td>2015-01-01</td>\n",
       "      <td>0</td>\n",
       "      <td>141503600</td>\n",
       "      <td>0</td>\n",
       "      <td>0</td>\n",
       "      <td>1</td>\n",
       "      <td>19</td>\n",
       "      <td>494462</td>\n",
       "      <td>16</td>\n",
       "      <td>16</td>\n",
       "      <td>3</td>\n",
       "      <td>2015-01-19</td>\n",
       "      <td>18</td>\n",
       "    </tr>\n",
       "    <tr>\n",
       "      <th>1</th>\n",
       "      <td>S1F023H2</td>\n",
       "      <td>True</td>\n",
       "      <td>2015-01-02</td>\n",
       "      <td>0</td>\n",
       "      <td>161679800</td>\n",
       "      <td>0</td>\n",
       "      <td>0</td>\n",
       "      <td>1</td>\n",
       "      <td>19</td>\n",
       "      <td>495730</td>\n",
       "      <td>16</td>\n",
       "      <td>16</td>\n",
       "      <td>3</td>\n",
       "      <td>2015-01-19</td>\n",
       "      <td>17</td>\n",
       "    </tr>\n",
       "    <tr>\n",
       "      <th>2</th>\n",
       "      <td>S1F023H2</td>\n",
       "      <td>True</td>\n",
       "      <td>2015-01-03</td>\n",
       "      <td>0</td>\n",
       "      <td>182358672</td>\n",
       "      <td>0</td>\n",
       "      <td>0</td>\n",
       "      <td>1</td>\n",
       "      <td>19</td>\n",
       "      <td>496974</td>\n",
       "      <td>16</td>\n",
       "      <td>16</td>\n",
       "      <td>3</td>\n",
       "      <td>2015-01-19</td>\n",
       "      <td>16</td>\n",
       "    </tr>\n",
       "    <tr>\n",
       "      <th>3</th>\n",
       "      <td>S1F023H2</td>\n",
       "      <td>True</td>\n",
       "      <td>2015-01-04</td>\n",
       "      <td>0</td>\n",
       "      <td>204752808</td>\n",
       "      <td>0</td>\n",
       "      <td>0</td>\n",
       "      <td>1</td>\n",
       "      <td>19</td>\n",
       "      <td>497559</td>\n",
       "      <td>16</td>\n",
       "      <td>16</td>\n",
       "      <td>3</td>\n",
       "      <td>2015-01-19</td>\n",
       "      <td>15</td>\n",
       "    </tr>\n",
       "    <tr>\n",
       "      <th>4</th>\n",
       "      <td>S1F023H2</td>\n",
       "      <td>True</td>\n",
       "      <td>2015-01-05</td>\n",
       "      <td>0</td>\n",
       "      <td>226982888</td>\n",
       "      <td>0</td>\n",
       "      <td>0</td>\n",
       "      <td>1</td>\n",
       "      <td>19</td>\n",
       "      <td>498753</td>\n",
       "      <td>16</td>\n",
       "      <td>16</td>\n",
       "      <td>3</td>\n",
       "      <td>2015-01-19</td>\n",
       "      <td>14</td>\n",
       "    </tr>\n",
       "  </tbody>\n",
       "</table>\n",
       "</div>"
      ],
      "text/plain": [
       "     device  failure_happend       date  failure  attribute1  attribute2  \\\n",
       "0  S1F023H2             True 2015-01-01        0   141503600           0   \n",
       "1  S1F023H2             True 2015-01-02        0   161679800           0   \n",
       "2  S1F023H2             True 2015-01-03        0   182358672           0   \n",
       "3  S1F023H2             True 2015-01-04        0   204752808           0   \n",
       "4  S1F023H2             True 2015-01-05        0   226982888           0   \n",
       "\n",
       "   attribute3  attribute4  attribute5  attribute6  attribute7  attribute8  \\\n",
       "0           0           1          19      494462          16          16   \n",
       "1           0           1          19      495730          16          16   \n",
       "2           0           1          19      496974          16          16   \n",
       "3           0           1          19      497559          16          16   \n",
       "4           0           1          19      498753          16          16   \n",
       "\n",
       "   attribute9  fail_date  lifeTime_remain  \n",
       "0           3 2015-01-19               18  \n",
       "1           3 2015-01-19               17  \n",
       "2           3 2015-01-19               16  \n",
       "3           3 2015-01-19               15  \n",
       "4           3 2015-01-19               14  "
      ]
     },
     "execution_count": 20,
     "metadata": {},
     "output_type": "execute_result"
    }
   ],
   "source": [
    "final_df.head()"
   ]
  },
  {
   "cell_type": "markdown",
   "metadata": {},
   "source": [
    "## drop data with negative lifetime_balace \n",
    "       it means after failure the test has been started for the device and \n",
    "       since each device only had one failure in total we easily drop these extra tests\n",
    "       which only happens for 5 of the devices"
   ]
  },
  {
   "cell_type": "code",
   "execution_count": 21,
   "metadata": {
    "scrolled": false
   },
   "outputs": [
    {
     "data": {
      "text/plain": [
       "5"
      ]
     },
     "execution_count": 21,
     "metadata": {},
     "output_type": "execute_result"
    }
   ],
   "source": [
    "final_df.loc[final_df.lifeTime_remain<0,'device'].nunique()"
   ]
  },
  {
   "cell_type": "code",
   "execution_count": 22,
   "metadata": {},
   "outputs": [
    {
     "data": {
      "image/png": "[encoded data removed]",
      "text/plain": [
       "<Figure size 432x288 with 1 Axes>"
      ]
     },
     "metadata": {
      "needs_background": "light"
     },
     "output_type": "display_data"
    }
   ],
   "source": [
    "final_df = final_df.loc[final_df.lifeTime_remain>=0]\n",
    "sns.distplot(final_df.lifeTime_remain,kde=False)\n",
    "plt.show()"
   ]
  },
  {
   "cell_type": "code",
   "execution_count": 24,
   "metadata": {},
   "outputs": [
    {
     "data": {
      "text/plain": [
       "count    10666.000000\n",
       "mean        79.839021\n",
       "std         60.238346\n",
       "min          0.000000\n",
       "25%         29.000000\n",
       "50%         69.000000\n",
       "75%        119.000000\n",
       "max        298.000000\n",
       "Name: lifeTime_remain, dtype: float64"
      ]
     },
     "execution_count": 24,
     "metadata": {},
     "output_type": "execute_result"
    }
   ],
   "source": [
    "final_df.lifeTime_remain.describe()"
   ]
  },
  {
   "cell_type": "code",
   "execution_count": 23,
   "metadata": {},
   "outputs": [
    {
     "data": {
      "text/plain": [
       "<matplotlib.axes._subplots.AxesSubplot at 0x1a1a594208>"
      ]
     },
     "execution_count": 23,
     "metadata": {},
     "output_type": "execute_result"
    },
    {
     "data": {
      "image/png": "[encoded data removed]",
      "text/plain": [
       "<Figure size 432x288 with 2 Axes>"
      ]
     },
     "metadata": {
      "needs_background": "light"
     },
     "output_type": "display_data"
    }
   ],
   "source": [
    "sns.heatmap(final_df.corr())"
   ]
  },
  {
   "cell_type": "markdown",
   "metadata": {},
   "source": [
    "# using 80% of device for train and the rest for test"
   ]
  },
  {
   "cell_type": "code",
   "execution_count": 25,
   "metadata": {},
   "outputs": [],
   "source": [
    "train_devices = list(np.random.choice(final_df.device.unique(),\n",
    "                                      replace=False,\n",
    "                                      size=int(0.8*final_df.device.nunique())))"
   ]
  },
  {
   "cell_type": "code",
   "execution_count": 26,
   "metadata": {},
   "outputs": [
    {
     "data": {
      "text/plain": [
       "84"
      ]
     },
     "execution_count": 26,
     "metadata": {},
     "output_type": "execute_result"
    }
   ],
   "source": [
    "len(train_devices)"
   ]
  },
  {
   "cell_type": "code",
   "execution_count": 27,
   "metadata": {},
   "outputs": [],
   "source": [
    "test_devices = [device for device in list(final_df.device.unique()) if device not in train_devices]"
   ]
  },
  {
   "cell_type": "code",
   "execution_count": 28,
   "metadata": {},
   "outputs": [
    {
     "data": {
      "text/plain": [
       "22"
      ]
     },
     "execution_count": 28,
     "metadata": {},
     "output_type": "execute_result"
    }
   ],
   "source": [
    "len(test_devices)"
   ]
  },
  {
   "cell_type": "code",
   "execution_count": 29,
   "metadata": {},
   "outputs": [],
   "source": [
    "train_df = final_df.loc[final_df.device.isin(train_devices)]\n",
    "test_df = final_df.loc[final_df.device.isin(test_devices)]"
   ]
  },
  {
   "cell_type": "code",
   "execution_count": 30,
   "metadata": {},
   "outputs": [
    {
     "data": {
      "text/plain": [
       "((8009, 15), (2657, 15))"
      ]
     },
     "execution_count": 30,
     "metadata": {},
     "output_type": "execute_result"
    }
   ],
   "source": [
    "train_df.shape,test_df.shape"
   ]
  },
  {
   "cell_type": "code",
   "execution_count": 31,
   "metadata": {},
   "outputs": [
    {
     "data": {
      "text/html": [
       "<div>\n",
       "<style scoped>\n",
       "    .dataframe tbody tr th:only-of-type {\n",
       "        vertical-align: middle;\n",
       "    }\n",
       "\n",
       "    .dataframe tbody tr th {\n",
       "        vertical-align: top;\n",
       "    }\n",
       "\n",
       "    .dataframe thead th {\n",
       "        text-align: right;\n",
       "    }\n",
       "</style>\n",
       "<table border=\"1\" class=\"dataframe\">\n",
       "  <thead>\n",
       "    <tr style=\"text-align: right;\">\n",
       "      <th></th>\n",
       "      <th>device</th>\n",
       "      <th>failure_happend</th>\n",
       "      <th>date</th>\n",
       "      <th>failure</th>\n",
       "      <th>attribute1</th>\n",
       "      <th>attribute2</th>\n",
       "      <th>attribute3</th>\n",
       "      <th>attribute4</th>\n",
       "      <th>attribute5</th>\n",
       "      <th>attribute6</th>\n",
       "      <th>attribute7</th>\n",
       "      <th>attribute8</th>\n",
       "      <th>attribute9</th>\n",
       "      <th>fail_date</th>\n",
       "      <th>lifeTime_remain</th>\n",
       "    </tr>\n",
       "  </thead>\n",
       "  <tbody>\n",
       "    <tr>\n",
       "      <th>0</th>\n",
       "      <td>S1F023H2</td>\n",
       "      <td>True</td>\n",
       "      <td>2015-01-01</td>\n",
       "      <td>0</td>\n",
       "      <td>141503600</td>\n",
       "      <td>0</td>\n",
       "      <td>0</td>\n",
       "      <td>1</td>\n",
       "      <td>19</td>\n",
       "      <td>494462</td>\n",
       "      <td>16</td>\n",
       "      <td>16</td>\n",
       "      <td>3</td>\n",
       "      <td>2015-01-19</td>\n",
       "      <td>18</td>\n",
       "    </tr>\n",
       "    <tr>\n",
       "      <th>1</th>\n",
       "      <td>S1F023H2</td>\n",
       "      <td>True</td>\n",
       "      <td>2015-01-02</td>\n",
       "      <td>0</td>\n",
       "      <td>161679800</td>\n",
       "      <td>0</td>\n",
       "      <td>0</td>\n",
       "      <td>1</td>\n",
       "      <td>19</td>\n",
       "      <td>495730</td>\n",
       "      <td>16</td>\n",
       "      <td>16</td>\n",
       "      <td>3</td>\n",
       "      <td>2015-01-19</td>\n",
       "      <td>17</td>\n",
       "    </tr>\n",
       "    <tr>\n",
       "      <th>2</th>\n",
       "      <td>S1F023H2</td>\n",
       "      <td>True</td>\n",
       "      <td>2015-01-03</td>\n",
       "      <td>0</td>\n",
       "      <td>182358672</td>\n",
       "      <td>0</td>\n",
       "      <td>0</td>\n",
       "      <td>1</td>\n",
       "      <td>19</td>\n",
       "      <td>496974</td>\n",
       "      <td>16</td>\n",
       "      <td>16</td>\n",
       "      <td>3</td>\n",
       "      <td>2015-01-19</td>\n",
       "      <td>16</td>\n",
       "    </tr>\n",
       "    <tr>\n",
       "      <th>3</th>\n",
       "      <td>S1F023H2</td>\n",
       "      <td>True</td>\n",
       "      <td>2015-01-04</td>\n",
       "      <td>0</td>\n",
       "      <td>204752808</td>\n",
       "      <td>0</td>\n",
       "      <td>0</td>\n",
       "      <td>1</td>\n",
       "      <td>19</td>\n",
       "      <td>497559</td>\n",
       "      <td>16</td>\n",
       "      <td>16</td>\n",
       "      <td>3</td>\n",
       "      <td>2015-01-19</td>\n",
       "      <td>15</td>\n",
       "    </tr>\n",
       "    <tr>\n",
       "      <th>4</th>\n",
       "      <td>S1F023H2</td>\n",
       "      <td>True</td>\n",
       "      <td>2015-01-05</td>\n",
       "      <td>0</td>\n",
       "      <td>226982888</td>\n",
       "      <td>0</td>\n",
       "      <td>0</td>\n",
       "      <td>1</td>\n",
       "      <td>19</td>\n",
       "      <td>498753</td>\n",
       "      <td>16</td>\n",
       "      <td>16</td>\n",
       "      <td>3</td>\n",
       "      <td>2015-01-19</td>\n",
       "      <td>14</td>\n",
       "    </tr>\n",
       "  </tbody>\n",
       "</table>\n",
       "</div>"
      ],
      "text/plain": [
       "     device  failure_happend       date  failure  attribute1  attribute2  \\\n",
       "0  S1F023H2             True 2015-01-01        0   141503600           0   \n",
       "1  S1F023H2             True 2015-01-02        0   161679800           0   \n",
       "2  S1F023H2             True 2015-01-03        0   182358672           0   \n",
       "3  S1F023H2             True 2015-01-04        0   204752808           0   \n",
       "4  S1F023H2             True 2015-01-05        0   226982888           0   \n",
       "\n",
       "   attribute3  attribute4  attribute5  attribute6  attribute7  attribute8  \\\n",
       "0           0           1          19      494462          16          16   \n",
       "1           0           1          19      495730          16          16   \n",
       "2           0           1          19      496974          16          16   \n",
       "3           0           1          19      497559          16          16   \n",
       "4           0           1          19      498753          16          16   \n",
       "\n",
       "   attribute9  fail_date  lifeTime_remain  \n",
       "0           3 2015-01-19               18  \n",
       "1           3 2015-01-19               17  \n",
       "2           3 2015-01-19               16  \n",
       "3           3 2015-01-19               15  \n",
       "4           3 2015-01-19               14  "
      ]
     },
     "execution_count": 31,
     "metadata": {},
     "output_type": "execute_result"
    }
   ],
   "source": [
    "train_df.head()"
   ]
  },
  {
   "cell_type": "code",
   "execution_count": 32,
   "metadata": {},
   "outputs": [
    {
     "data": {
      "text/plain": [
       "['attribute1',\n",
       " 'attribute2',\n",
       " 'attribute3',\n",
       " 'attribute4',\n",
       " 'attribute5',\n",
       " 'attribute6',\n",
       " 'attribute7',\n",
       " 'attribute8',\n",
       " 'attribute9']"
      ]
     },
     "execution_count": 32,
     "metadata": {},
     "output_type": "execute_result"
    }
   ],
   "source": [
    "features = [feat for feat in train_df.columns if 'attribute' in feat]\n",
    "features"
   ]
  },
  {
   "cell_type": "code",
   "execution_count": 33,
   "metadata": {},
   "outputs": [],
   "source": [
    "target = 'lifeTime_remain'"
   ]
  },
  {
   "cell_type": "code",
   "execution_count": 34,
   "metadata": {},
   "outputs": [],
   "source": [
    "def regressor(x_train,y_train,x_test,y_test,classifier):\n",
    "    y_pred = []\n",
    "    if (classifier == 'tree'):\n",
    "        rfr=RandomForestRegressor(random_state=42)\n",
    "        p_grid={\n",
    "            'n_estimators' :[100,300,500,1000]\n",
    "\n",
    "        }\n",
    "        clf = GridSearchCV(estimator=rfr, param_grid=p_grid, cv=5, n_jobs=-1,verbose=1)\n",
    "        clf.fit(x_train,y_train)\n",
    "        model = clf.best_estimator_\n",
    "        y_pred = model.predict(x_test)\n",
    "\n",
    "    else:\n",
    "        eNet = ElasticNet(max_iter=10000)\n",
    "        # Set up possible values of parameters to optimize over\n",
    "        p_grid = {\n",
    "        \"l1_ratio\": [.1, .5, .7, .9, .95, .99, 1], # original one\n",
    "        # \"l1_ratio\": [1],\n",
    "        \"alpha\": float(2) ** np.arange(-10, 11) # original one\n",
    "        # \"alpha\": float(2)**np.arange(0,11)\n",
    "        }\n",
    "        \n",
    "        # Non_nested parameter search and scoring\n",
    "        clf = GridSearchCV(estimator=eNet, param_grid=p_grid, cv=5, n_jobs=-1)\n",
    "        clf.fit(x_train, y_train)\n",
    "        model = clf.best_estimator_\n",
    "        y_pred = model.predict(x_test)\n",
    "        \n",
    "    print('number of days error',metrics.mean_absolute_error(y_test,y_pred))\n",
    "    print('r2 score',metrics.r2_score(y_test,y_pred))\n",
    "\n",
    "    return (y_pred)"
   ]
  },
  {
   "cell_type": "code",
   "execution_count": null,
   "metadata": {},
   "outputs": [
    {
     "name": "stdout",
     "output_type": "stream",
     "text": [
      "Fitting 5 folds for each of 4 candidates, totalling 20 fits\n"
     ]
    },
    {
     "name": "stderr",
     "output_type": "stream",
     "text": [
      "[Parallel(n_jobs=-1)]: Using backend LokyBackend with 8 concurrent workers.\n"
     ]
    }
   ],
   "source": [
    "y_pred= regressor(train_df[features],train_df[target],test_df[features],test_df[target],'tree')"
   ]
  },
  {
   "cell_type": "code",
   "execution_count": 184,
   "metadata": {},
   "outputs": [
    {
     "name": "stdout",
     "output_type": "stream",
     "text": [
      "number of days error 49.67541519980428\n",
      "r2 score 0.029077654139021303\n"
     ]
    },
    {
     "name": "stderr",
     "output_type": "stream",
     "text": [
      "/anaconda3/lib/python3.6/site-packages/sklearn/model_selection/_search.py:841: DeprecationWarning: The default of the `iid` parameter will change from True to False in version 0.22 and will be removed in 0.24. This will change numeric results when test-set sizes are unequal.\n",
      "  DeprecationWarning)\n"
     ]
    }
   ],
   "source": [
    "y_pred= regressor(train_df[features],train_df[target],test_df[features],test_df[target],'enet')"
   ]
  },
  {
   "cell_type": "code",
   "execution_count": 40,
   "metadata": {},
   "outputs": [],
   "source": [
    "median_train = train_df.lifeTime_remain.describe()['50%']"
   ]
  },
  {
   "cell_type": "markdown",
   "metadata": {},
   "source": [
    "**Using Median to devide to make the problem to a binary classification with remaining life time \n",
    "    less than 66 or more than 66**"
   ]
  },
  {
   "cell_type": "code",
   "execution_count": 72,
   "metadata": {},
   "outputs": [],
   "source": [
    "def classifier(x_train,y_train,x_test,y_test):\n",
    "\n",
    "    y_pred = []\n",
    "    rfc=RandomForestClassifier(random_state=42)\n",
    "    p_grid={\n",
    "        'n_estimators' :[100,300,500,1000]\n",
    "\n",
    "    }\n",
    "    clf = GridSearchCV(estimator=rfc, param_grid=p_grid, cv=5, n_jobs=-1,verbose=1)\n",
    "    clf.fit(x_train,y_train)\n",
    "    model = clf.best_estimator_\n",
    "    y_pred = model.predict(x_test)\n",
    "    print('classification report\\n',metrics.classification_report(y_test,y_pred))\n",
    "    print('accuracy',metrics.accuracy_score(y_test,y_pred))\n",
    "    return (y_pred)"
   ]
  },
  {
   "cell_type": "code",
   "execution_count": 56,
   "metadata": {},
   "outputs": [
    {
     "name": "stderr",
     "output_type": "stream",
     "text": [
      "/anaconda3/lib/python3.6/site-packages/ipykernel_launcher.py:1: SettingWithCopyWarning: \n",
      "A value is trying to be set on a copy of a slice from a DataFrame.\n",
      "Try using .loc[row_indexer,col_indexer] = value instead\n",
      "\n",
      "See the caveats in the documentation: http://pandas.pydata.org/pandas-docs/stable/indexing.html#indexing-view-versus-copy\n",
      "  \"\"\"Entry point for launching an IPython kernel.\n",
      "/anaconda3/lib/python3.6/site-packages/pandas/core/indexing.py:543: SettingWithCopyWarning: \n",
      "A value is trying to be set on a copy of a slice from a DataFrame.\n",
      "Try using .loc[row_indexer,col_indexer] = value instead\n",
      "\n",
      "See the caveats in the documentation: http://pandas.pydata.org/pandas-docs/stable/indexing.html#indexing-view-versus-copy\n",
      "  self.obj[item] = s\n",
      "/anaconda3/lib/python3.6/site-packages/ipykernel_launcher.py:4: SettingWithCopyWarning: \n",
      "A value is trying to be set on a copy of a slice from a DataFrame.\n",
      "Try using .loc[row_indexer,col_indexer] = value instead\n",
      "\n",
      "See the caveats in the documentation: http://pandas.pydata.org/pandas-docs/stable/indexing.html#indexing-view-versus-copy\n",
      "  after removing the cwd from sys.path.\n"
     ]
    }
   ],
   "source": [
    "train_df['less_66'] = 1\n",
    "train_df.loc[train_df.lifeTime_remain>median_train,'less_66']= 0\n",
    "\n",
    "test_df['less_66'] = 1\n",
    "test_df.loc[test_df.lifeTime_remain>median_train,'less_66']= 0"
   ]
  },
  {
   "cell_type": "code",
   "execution_count": 73,
   "metadata": {},
   "outputs": [
    {
     "name": "stdout",
     "output_type": "stream",
     "text": [
      "Fitting 5 folds for each of 4 candidates, totalling 20 fits\n"
     ]
    },
    {
     "name": "stderr",
     "output_type": "stream",
     "text": [
      "[Parallel(n_jobs=-1)]: Using backend LokyBackend with 8 concurrent workers.\n",
      "[Parallel(n_jobs=-1)]: Done  20 out of  20 | elapsed:   12.6s finished\n"
     ]
    },
    {
     "name": "stdout",
     "output_type": "stream",
     "text": [
      "classification report\n",
      "               precision    recall  f1-score   support\n",
      "\n",
      "           0       0.68      0.48      0.57      1532\n",
      "           1       0.50      0.69      0.58      1125\n",
      "\n",
      "   micro avg       0.57      0.57      0.57      2657\n",
      "   macro avg       0.59      0.59      0.57      2657\n",
      "weighted avg       0.60      0.57      0.57      2657\n",
      "\n",
      "accuracy 0.5720737674068498\n"
     ]
    }
   ],
   "source": [
    "target = 'less_66'\n",
    "y_pred= classifier(train_df[features],train_df[target],test_df[features],test_df[target])"
   ]
  },
  {
   "cell_type": "raw",
   "metadata": {},
   "source": [
    "tune tree on max_features as well"
   ]
  }
 ],
 "metadata": {
  "kernelspec": {
   "display_name": "Python 3",
   "language": "python",
   "name": "python3"
  },
  "language_info": {
   "codemirror_mode": {
    "name": "ipython",
    "version": 3
   },
   "file_extension": ".py",
   "mimetype": "text/x-python",
   "name": "python",
   "nbconvert_exporter": "python",
   "pygments_lexer": "ipython3",
   "version": "3.6.8"
  }
 },
 "nbformat": 4,
 "nbformat_minor": 2
}
